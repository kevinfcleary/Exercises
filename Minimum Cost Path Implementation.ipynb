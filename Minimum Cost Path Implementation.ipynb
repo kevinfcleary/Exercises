{
 "cells": [
  {
   "cell_type": "code",
   "execution_count": 10,
   "metadata": {},
   "outputs": [],
   "source": [
    "import numpy as np"
   ]
  },
  {
   "cell_type": "code",
   "execution_count": 19,
   "metadata": {},
   "outputs": [],
   "source": [
    "A = [[4,10,-4,5],\n",
    "     [6,2,3,15],\n",
    "     [4,1,7,3],\n",
    "     [12,14,2,6]]"
   ]
  },
  {
   "cell_type": "code",
   "execution_count": 20,
   "metadata": {},
   "outputs": [
    {
     "data": {
      "text/plain": [
       "[[4, 10, -4, 5], [6, 2, 3, 15], [4, 1, 7, 3], [12, 14, 2, 6]]"
      ]
     },
     "execution_count": 20,
     "metadata": {},
     "output_type": "execute_result"
    }
   ],
   "source": [
    "A"
   ]
  },
  {
   "cell_type": "code",
   "execution_count": 35,
   "metadata": {},
   "outputs": [],
   "source": [
    "def mincostpath(matrix):\n",
    "    cols = len(matrix[0])\n",
    "    rows = len(matrix)\n",
    "    cost_matrix = np.zeros((rows,cols))\n",
    "    cost_matrix[0][0] = matrix[0][0]\n",
    "    for i in range(1,cols):\n",
    "        cost_matrix[i][0] = matrix [i][0] + cost_matrix[i-1][0]\n",
    "    for i in range(1,rows):\n",
    "        cost_matrix[0][i] = matrix[0][i] + cost_matrix[0][i-1]\n",
    "    for i in range(1,cols):\n",
    "        for j in range(1,rows):\n",
    "            cost_matrix[i][j] = min(matrix[i][j] + cost_matrix[i-1][j], matrix[i][j] + cost_matrix[i][j-1])\n",
    "    return cost_matrix[rows-1][cols-1]\n",
    "    "
   ]
  },
  {
   "cell_type": "code",
   "execution_count": 36,
   "metadata": {},
   "outputs": [
    {
     "data": {
      "text/plain": [
       "28.0"
      ]
     },
     "execution_count": 36,
     "metadata": {},
     "output_type": "execute_result"
    }
   ],
   "source": [
    "mincostpath(A)"
   ]
  },
  {
   "cell_type": "code",
   "execution_count": 23,
   "metadata": {},
   "outputs": [
    {
     "data": {
      "text/plain": [
       "3"
      ]
     },
     "execution_count": 23,
     "metadata": {},
     "output_type": "execute_result"
    }
   ],
   "source": [
    "A[1][2]"
   ]
  },
  {
   "cell_type": "code",
   "execution_count": null,
   "metadata": {},
   "outputs": [],
   "source": []
  }
 ],
 "metadata": {
  "kernelspec": {
   "display_name": "Python 3",
   "language": "python",
   "name": "python3"
  },
  "language_info": {
   "codemirror_mode": {
    "name": "ipython",
    "version": 3
   },
   "file_extension": ".py",
   "mimetype": "text/x-python",
   "name": "python",
   "nbconvert_exporter": "python",
   "pygments_lexer": "ipython3",
   "version": "3.6.4"
  }
 },
 "nbformat": 4,
 "nbformat_minor": 2
}
