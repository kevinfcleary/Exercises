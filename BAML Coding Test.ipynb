{
 "cells": [
  {
   "cell_type": "code",
   "execution_count": 1,
   "metadata": {},
   "outputs": [],
   "source": [
    "#Importing packages primarily for plotting, because the first step of any low-dimensional problem should be\n",
    "#just looking at it\n",
    "import pandas as pd\n",
    "import matplotlib.pyplot as plt\n",
    "import numpy as np\n",
    "%matplotlib inline"
   ]
  },
  {
   "cell_type": "code",
   "execution_count": 2,
   "metadata": {},
   "outputs": [
    {
     "data": {
      "image/png": "[encoded data removed]",
      "text/plain": [
       "<matplotlib.figure.Figure at 0x10e6a6450>"
      ]
     },
     "metadata": {},
     "output_type": "display_data"
    }
   ],
   "source": [
    "#reading in the csv\n",
    "df = pd.read_csv('testData.csv',header=None)\n",
    "#renaming columns out of an excess of care\n",
    "df = df.rename(columns={0: \"X\",1: \"Y\"})\n",
    "df.plot(kind='scatter',x=\"X\",y=\"Y\",color='blue')\n",
    "plt.show()"
   ]
  },
  {
   "cell_type": "code",
   "execution_count": 4,
   "metadata": {},
   "outputs": [],
   "source": [
    "#finding the associated distance from the mean and using it to compute the Median Absolute Deviation of the data set.\n",
    "df['X_dist'] = abs(df['X'] - df['X'].mean())\n",
    "df['Y_dist'] = abs(df['Y'] - df['Y'].mean())\n",
    "MAD = np.sqrt(df['X_dist'].median()**2 + df['Y_dist'].median()**2)"
   ]
  },
  {
   "cell_type": "code",
   "execution_count": 8,
   "metadata": {},
   "outputs": [],
   "source": [
    "#The usual criteria for outliers in one dimensional data is if X > Mean(X) +/- 2.5* MAD, I adapted that formula\n",
    "#Subbing in the Euclidean distance\n",
    "df['Maha_dist'] = np.sqrt((df['X']-df['X_dist'].mean())**2 + (df['Y']-df['Y_dist'].mean())**2)\n",
    "df ['Outlier'] = df['Maha_dist'] > 2.5 *MAD\n",
    "df['Outlier'] = df['Outlier'].astype(int)\n",
    "df_outlier = df[df['Outlier']==1]"
   ]
  },
  {
   "cell_type": "code",
   "execution_count": 9,
   "metadata": {},
   "outputs": [
    {
     "data": {
      "image/png": "[encoded data removed]",
      "text/plain": [
       "<matplotlib.figure.Figure at 0x116bc7d50>"
      ]
     },
     "metadata": {},
     "output_type": "display_data"
    }
   ],
   "source": [
    "df_outlier.plot(kind='scatter',x=\"X\",y=\"Y\",color='blue')\n",
    "plt.show()"
   ]
  },
  {
   "cell_type": "code",
   "execution_count": 122,
   "metadata": {},
   "outputs": [],
   "source": [
    "df = df.drop(['X_dist','Y_dist','Maha_dist'],axis=1)"
   ]
  },
  {
   "cell_type": "code",
   "execution_count": 124,
   "metadata": {},
   "outputs": [],
   "source": [
    "#exporting the final file\n",
    "df.to_csv('testData_outliers.csv')"
   ]
  },
  {
   "cell_type": "code",
   "execution_count": null,
   "metadata": {},
   "outputs": [],
   "source": [
    "#The one-cell executable is down here\n",
    "import pandas as pd\n",
    "import numpy as np\n",
    "df = pd.read_csv('testData.csv',header=None)\n",
    "df = df.rename(columns={0: \"X\",1: \"Y\"})\n",
    "df['X_dist'] = abs(df['X'] - df['X'].mean())\n",
    "df['Y_dist'] = abs(df['Y'] - df['Y'].mean())\n",
    "MAD = np.sqrt(df['X_dist'].median()**2 + df['Y_dist'].median()**2)\n",
    "df['Maha_dist'] = np.sqrt((df['X']-df['X_dist'].mean())**2 + (df['Y']-df['Y_dist'].mean())**2)\n",
    "df ['Outlier'] = df['Maha_dist'] > 2.5 *MAD\n",
    "df['Outlier'] = df['Outlier'].astype(int)\n",
    "df_outlier = df[df['Outlier']==1]\n",
    "df = df.drop(['X_dist','Y_dist','Maha_dist'],axis=1)\n",
    "df.to_csv('testData_outliers.csv')"
   ]
  }
 ],
 "metadata": {
  "kernelspec": {
   "display_name": "Python 2",
   "language": "python",
   "name": "python2"
  },
  "language_info": {
   "codemirror_mode": {
    "name": "ipython",
    "version": 2
   },
   "file_extension": ".py",
   "mimetype": "text/x-python",
   "name": "python",
   "nbconvert_exporter": "python",
   "pygments_lexer": "ipython2",
   "version": "2.7.14"
  }
 },
 "nbformat": 4,
 "nbformat_minor": 2
}
